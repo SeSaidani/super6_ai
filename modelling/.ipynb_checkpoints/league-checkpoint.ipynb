{
 "cells": [
  {
   "cell_type": "markdown",
   "id": "03ce6894-d69e-4035-92df-a6024060a399",
   "metadata": {},
   "source": [
    "# English Football League Score Prediction"
   ]
  },
  {
   "cell_type": "markdown",
   "id": "e01ae2cf-3062-403e-8753-f62c339e3616",
   "metadata": {},
   "source": [
    "## Overview"
   ]
  },
  {
   "cell_type": "markdown",
   "id": "d8f3adc3-1893-4956-bd08-dc1980ae5fde",
   "metadata": {},
   "source": [
    "---------------"
   ]
  },
  {
   "cell_type": "markdown",
   "id": "d2b2abfd-2c27-4db1-baf7-20b4cf18eeb3",
   "metadata": {},
   "source": [
    "In this notebook I will try and attempt to build a model to predict the outcome of english football league games"
   ]
  },
  {
   "cell_type": "markdown",
   "id": "048e7834-4d00-4c6d-bcdb-3b411412bdc0",
   "metadata": {},
   "source": [
    "-----------------"
   ]
  },
  {
   "cell_type": "markdown",
   "id": "69e271b4-35c6-4a08-aa99-1a67304b38b9",
   "metadata": {},
   "source": [
    "## 1. Setup"
   ]
  },
  {
   "cell_type": "markdown",
   "id": "5061b215-959d-4937-abca-5007c78bb26f",
   "metadata": {},
   "source": [
    "### 1.1 Modules"
   ]
  },
  {
   "cell_type": "code",
   "execution_count": 8,
   "id": "39599094-177c-46ac-a4ec-edd2fd3472e1",
   "metadata": {},
   "outputs": [],
   "source": [
    "import sys\n",
    "sys.path.append(\"..\")\n",
    "\n",
    "import pandas as pd\n",
    "import numpy as np\n",
    "from data_processing.historical_data import HistoricaLeague\n",
    "from data_processing.game_data import LeagueGame\n",
    "\n",
    "from sklearn.model_selection import train_test_split\n",
    "from sklearn.linear_model import LinearRegression\n",
    "import xgboost\n",
    "import joblib\n",
    "\n",
    "import tensorflow as tf\n",
    "\n",
    "from tensorflow import keras\n",
    "from tensorflow.keras import layers"
   ]
  },
  {
   "cell_type": "markdown",
   "id": "30c9e84f-549d-4529-b82c-a8bec49d97e2",
   "metadata": {},
   "source": [
    "### 2. Data"
   ]
  },
  {
   "cell_type": "code",
   "execution_count": 10,
   "id": "83bdb172-d87b-4864-a007-dacb0f83cb0e",
   "metadata": {},
   "outputs": [],
   "source": [
    "historical_league = HistoricaLeague()\n",
    "historical_league_df = historical_league.get_data()"
   ]
  },
  {
   "cell_type": "code",
   "execution_count": 11,
   "id": "92149020-2007-4feb-ad09-d3fe7094b522",
   "metadata": {},
   "outputs": [],
   "source": [
    "historical_league_df_reduced = historical_league_df[['Date', 'HomeTeam', 'AwayTeam', 'FTHG', 'FTAG']].copy()"
   ]
  },
  {
   "cell_type": "code",
   "execution_count": 12,
   "id": "e8d4d090-c5a0-4fb4-a4ab-cbdde343eb9b",
   "metadata": {},
   "outputs": [
    {
     "data": {
      "text/html": [
       "<div>\n",
       "<style scoped>\n",
       "    .dataframe tbody tr th:only-of-type {\n",
       "        vertical-align: middle;\n",
       "    }\n",
       "\n",
       "    .dataframe tbody tr th {\n",
       "        vertical-align: top;\n",
       "    }\n",
       "\n",
       "    .dataframe thead th {\n",
       "        text-align: right;\n",
       "    }\n",
       "</style>\n",
       "<table border=\"1\" class=\"dataframe\">\n",
       "  <thead>\n",
       "    <tr style=\"text-align: right;\">\n",
       "      <th></th>\n",
       "      <th>Date</th>\n",
       "      <th>HomeTeam</th>\n",
       "      <th>AwayTeam</th>\n",
       "      <th>FTHG</th>\n",
       "      <th>FTAG</th>\n",
       "    </tr>\n",
       "  </thead>\n",
       "  <tbody>\n",
       "    <tr>\n",
       "      <th>0</th>\n",
       "      <td>2024-08-16</td>\n",
       "      <td>Man United</td>\n",
       "      <td>Fulham</td>\n",
       "      <td>1</td>\n",
       "      <td>0</td>\n",
       "    </tr>\n",
       "    <tr>\n",
       "      <th>1</th>\n",
       "      <td>2024-08-17</td>\n",
       "      <td>Ipswich</td>\n",
       "      <td>Liverpool</td>\n",
       "      <td>0</td>\n",
       "      <td>2</td>\n",
       "    </tr>\n",
       "    <tr>\n",
       "      <th>2</th>\n",
       "      <td>2024-08-17</td>\n",
       "      <td>Arsenal</td>\n",
       "      <td>Wolves</td>\n",
       "      <td>2</td>\n",
       "      <td>0</td>\n",
       "    </tr>\n",
       "    <tr>\n",
       "      <th>3</th>\n",
       "      <td>2024-08-17</td>\n",
       "      <td>Everton</td>\n",
       "      <td>Brighton</td>\n",
       "      <td>0</td>\n",
       "      <td>3</td>\n",
       "    </tr>\n",
       "    <tr>\n",
       "      <th>4</th>\n",
       "      <td>2024-08-17</td>\n",
       "      <td>Newcastle</td>\n",
       "      <td>Southampton</td>\n",
       "      <td>1</td>\n",
       "      <td>0</td>\n",
       "    </tr>\n",
       "  </tbody>\n",
       "</table>\n",
       "</div>"
      ],
      "text/plain": [
       "        Date    HomeTeam     AwayTeam  FTHG  FTAG\n",
       "0 2024-08-16  Man United       Fulham     1     0\n",
       "1 2024-08-17     Ipswich    Liverpool     0     2\n",
       "2 2024-08-17     Arsenal       Wolves     2     0\n",
       "3 2024-08-17     Everton     Brighton     0     3\n",
       "4 2024-08-17   Newcastle  Southampton     1     0"
      ]
     },
     "execution_count": 12,
     "metadata": {},
     "output_type": "execute_result"
    }
   ],
   "source": [
    "historical_league_df_reduced.head()"
   ]
  },
  {
   "cell_type": "code",
   "execution_count": 13,
   "id": "0669fac1-a3ba-4acc-9289-888772986486",
   "metadata": {},
   "outputs": [],
   "source": [
    "def generate_game_data(row):\n",
    "    league_game = LeagueGame(row['HomeTeam'], row['AwayTeam'], row['Date'], historical_league_df)\n",
    "    league_game.generate_game_data()\n",
    "    return [league_game.home_team_data.latest_scores, \n",
    "            league_game.home_team_data.home_scores, \n",
    "            league_game.home_team_data.away_scores, \n",
    "            league_game.away_team_data.latest_scores, \n",
    "            league_game.away_team_data.home_scores, \n",
    "            league_game.away_team_data.away_scores]\n",
    "\n"
   ]
  },
  {
   "cell_type": "code",
   "execution_count": 14,
   "id": "41a2a98d-f14d-4ae7-ab00-f0d39fca63ee",
   "metadata": {},
   "outputs": [],
   "source": [
    "def remove_incomplete_histories_home(df):\n",
    "    df = df.copy()\n",
    "    df['home_home_len'] = df['home_home'].str.len()\n",
    "    df['home_away_len'] = df['home_away'].str.len()\n",
    "    df['home_latest_len'] = df['home_latest'].str.len()\n",
    "\n",
    "    df = df[df['home_home_len'] == 5]\n",
    "    df = df[df['home_away_len'] == 5]\n",
    "    df = df[df['home_latest_len'] == 5]\n",
    "\n",
    "    return df.iloc[:, 0:5]"
   ]
  },
  {
   "cell_type": "code",
   "execution_count": 15,
   "id": "66a89d2a-4f7c-41e3-9374-d9014be09b21",
   "metadata": {},
   "outputs": [],
   "source": [
    "def remove_incomplete_histories_away(df):\n",
    "    df = df.copy()\n",
    "\n",
    "    df['away_home_len'] = df['away_home'].str.len()\n",
    "    df['away_away_len'] = df['away_away'].str.len()\n",
    "    df['away_latest_len'] = df['away_latest'].str.len()\n",
    "\n",
    "    df = df[df['away_home_len'] == 5]\n",
    "    df = df[df['away_away_len'] == 5]\n",
    "    df = df[df['away_latest_len'] == 5]\n",
    "\n",
    "    return df.iloc[:, 0:5]"
   ]
  },
  {
   "cell_type": "code",
   "execution_count": 16,
   "id": "f3e68724-3054-45c1-9fa6-c23a914cc8c3",
   "metadata": {},
   "outputs": [],
   "source": [
    "def split_list(list):\n",
    "    return pd.Series(list)"
   ]
  },
  {
   "cell_type": "code",
   "execution_count": 17,
   "id": "2a76c10c-5df7-4d72-a246-99c36c1f297d",
   "metadata": {},
   "outputs": [],
   "source": [
    "historical_league_df_reduced[['home_latest', \n",
    "                              'home_home', \n",
    "                              'home_away', \n",
    "                              'away_latest', \n",
    "                              'away_home', \n",
    "                              'away_away'\n",
    "                             ]] = historical_league_df_reduced.apply(generate_game_data, \n",
    "                                                                     axis=1, \n",
    "                                                                     result_type='expand')"
   ]
  },
  {
   "cell_type": "code",
   "execution_count": 18,
   "id": "167990c8-4145-4c82-bdd7-1b99f55692a8",
   "metadata": {},
   "outputs": [],
   "source": [
    "home_team_df = historical_league_df_reduced[['HomeTeam', 'FTHG', 'home_latest', 'home_home', 'home_away']].copy()\n",
    "away_team_df = historical_league_df_reduced[['AwayTeam', 'FTAG', 'away_latest', 'away_home', 'away_away']].copy()"
   ]
  },
  {
   "cell_type": "code",
   "execution_count": 19,
   "id": "dd40ea73-4040-4b2a-8e45-8fd928b85d97",
   "metadata": {},
   "outputs": [],
   "source": [
    "home_team_df = remove_incomplete_histories_home(home_team_df)\n",
    "away_team_df = remove_incomplete_histories_away(away_team_df)"
   ]
  },
  {
   "cell_type": "code",
   "execution_count": 20,
   "id": "c01de4ec-914d-46f7-ac41-8e5f19a614e2",
   "metadata": {},
   "outputs": [
    {
     "data": {
      "text/html": [
       "<div>\n",
       "<style scoped>\n",
       "    .dataframe tbody tr th:only-of-type {\n",
       "        vertical-align: middle;\n",
       "    }\n",
       "\n",
       "    .dataframe tbody tr th {\n",
       "        vertical-align: top;\n",
       "    }\n",
       "\n",
       "    .dataframe thead th {\n",
       "        text-align: right;\n",
       "    }\n",
       "</style>\n",
       "<table border=\"1\" class=\"dataframe\">\n",
       "  <thead>\n",
       "    <tr style=\"text-align: right;\">\n",
       "      <th></th>\n",
       "      <th>HomeTeam</th>\n",
       "      <th>FTHG</th>\n",
       "      <th>home_latest</th>\n",
       "      <th>home_home</th>\n",
       "      <th>home_away</th>\n",
       "    </tr>\n",
       "  </thead>\n",
       "  <tbody>\n",
       "    <tr>\n",
       "      <th>0</th>\n",
       "      <td>Man United</td>\n",
       "      <td>1</td>\n",
       "      <td>[2, 3, 0, 0, 1]</td>\n",
       "      <td>[3, 0, 1, 4, 2]</td>\n",
       "      <td>[2, 0, 2, 3, 1]</td>\n",
       "    </tr>\n",
       "    <tr>\n",
       "      <th>1</th>\n",
       "      <td>Ipswich</td>\n",
       "      <td>0</td>\n",
       "      <td>[2, 2, 3, 1, 0]</td>\n",
       "      <td>[2, 1, 0, 3, 6]</td>\n",
       "      <td>[2, 3, 0, 1, 1]</td>\n",
       "    </tr>\n",
       "    <tr>\n",
       "      <th>2</th>\n",
       "      <td>Arsenal</td>\n",
       "      <td>2</td>\n",
       "      <td>[2, 1, 3, 3, 5]</td>\n",
       "      <td>[2, 3, 5, 0, 2]</td>\n",
       "      <td>[1, 3, 2, 3, 0]</td>\n",
       "    </tr>\n",
       "    <tr>\n",
       "      <th>3</th>\n",
       "      <td>Everton</td>\n",
       "      <td>0</td>\n",
       "      <td>[1, 1, 1, 1, 2]</td>\n",
       "      <td>[1, 1, 2, 2, 1]</td>\n",
       "      <td>[1, 1, 0, 1, 1]</td>\n",
       "    </tr>\n",
       "    <tr>\n",
       "      <th>4</th>\n",
       "      <td>Newcastle</td>\n",
       "      <td>1</td>\n",
       "      <td>[4, 2, 1, 4, 5]</td>\n",
       "      <td>[1, 5, 4, 1, 4]</td>\n",
       "      <td>[4, 2, 4, 0, 1]</td>\n",
       "    </tr>\n",
       "  </tbody>\n",
       "</table>\n",
       "</div>"
      ],
      "text/plain": [
       "     HomeTeam  FTHG      home_latest        home_home        home_away\n",
       "0  Man United     1  [2, 3, 0, 0, 1]  [3, 0, 1, 4, 2]  [2, 0, 2, 3, 1]\n",
       "1     Ipswich     0  [2, 2, 3, 1, 0]  [2, 1, 0, 3, 6]  [2, 3, 0, 1, 1]\n",
       "2     Arsenal     2  [2, 1, 3, 3, 5]  [2, 3, 5, 0, 2]  [1, 3, 2, 3, 0]\n",
       "3     Everton     0  [1, 1, 1, 1, 2]  [1, 1, 2, 2, 1]  [1, 1, 0, 1, 1]\n",
       "4   Newcastle     1  [4, 2, 1, 4, 5]  [1, 5, 4, 1, 4]  [4, 2, 4, 0, 1]"
      ]
     },
     "execution_count": 20,
     "metadata": {},
     "output_type": "execute_result"
    }
   ],
   "source": [
    "home_team_df.head()"
   ]
  },
  {
   "cell_type": "code",
   "execution_count": 21,
   "id": "259fe3de-5475-42da-8899-062e32e14db2",
   "metadata": {},
   "outputs": [],
   "source": [
    "home_team_df[['latest_0', 'latest_1', 'latest_2', 'latest_3', 'latest_4']] = home_team_df['home_latest'].apply(split_list)\n",
    "home_team_df[['home_0', 'home_1', 'home_2', 'home_3', 'home_4']] = home_team_df['home_home'].apply(split_list)\n",
    "home_team_df[['away_0', 'away_1', 'away_2', 'away_3', 'away_4']] = home_team_df['home_away'].apply(split_list)\n",
    "home_team_df = home_team_df.drop(['HomeTeam', 'home_latest', 'home_home', 'home_away'], axis=1)"
   ]
  },
  {
   "cell_type": "code",
   "execution_count": 22,
   "id": "94089e24-ffef-4bcd-a155-15e13ef2a23a",
   "metadata": {},
   "outputs": [
    {
     "data": {
      "text/html": [
       "<div>\n",
       "<style scoped>\n",
       "    .dataframe tbody tr th:only-of-type {\n",
       "        vertical-align: middle;\n",
       "    }\n",
       "\n",
       "    .dataframe tbody tr th {\n",
       "        vertical-align: top;\n",
       "    }\n",
       "\n",
       "    .dataframe thead th {\n",
       "        text-align: right;\n",
       "    }\n",
       "</style>\n",
       "<table border=\"1\" class=\"dataframe\">\n",
       "  <thead>\n",
       "    <tr style=\"text-align: right;\">\n",
       "      <th></th>\n",
       "      <th>FTHG</th>\n",
       "      <th>latest_0</th>\n",
       "      <th>latest_1</th>\n",
       "      <th>latest_2</th>\n",
       "      <th>latest_3</th>\n",
       "      <th>latest_4</th>\n",
       "      <th>home_0</th>\n",
       "      <th>home_1</th>\n",
       "      <th>home_2</th>\n",
       "      <th>home_3</th>\n",
       "      <th>home_4</th>\n",
       "      <th>away_0</th>\n",
       "      <th>away_1</th>\n",
       "      <th>away_2</th>\n",
       "      <th>away_3</th>\n",
       "      <th>away_4</th>\n",
       "    </tr>\n",
       "  </thead>\n",
       "  <tbody>\n",
       "    <tr>\n",
       "      <th>0</th>\n",
       "      <td>1</td>\n",
       "      <td>2</td>\n",
       "      <td>3</td>\n",
       "      <td>0</td>\n",
       "      <td>0</td>\n",
       "      <td>1</td>\n",
       "      <td>3</td>\n",
       "      <td>0</td>\n",
       "      <td>1</td>\n",
       "      <td>4</td>\n",
       "      <td>2</td>\n",
       "      <td>2</td>\n",
       "      <td>0</td>\n",
       "      <td>2</td>\n",
       "      <td>3</td>\n",
       "      <td>1</td>\n",
       "    </tr>\n",
       "    <tr>\n",
       "      <th>1</th>\n",
       "      <td>0</td>\n",
       "      <td>2</td>\n",
       "      <td>2</td>\n",
       "      <td>3</td>\n",
       "      <td>1</td>\n",
       "      <td>0</td>\n",
       "      <td>2</td>\n",
       "      <td>1</td>\n",
       "      <td>0</td>\n",
       "      <td>3</td>\n",
       "      <td>6</td>\n",
       "      <td>2</td>\n",
       "      <td>3</td>\n",
       "      <td>0</td>\n",
       "      <td>1</td>\n",
       "      <td>1</td>\n",
       "    </tr>\n",
       "    <tr>\n",
       "      <th>2</th>\n",
       "      <td>2</td>\n",
       "      <td>2</td>\n",
       "      <td>1</td>\n",
       "      <td>3</td>\n",
       "      <td>3</td>\n",
       "      <td>5</td>\n",
       "      <td>2</td>\n",
       "      <td>3</td>\n",
       "      <td>5</td>\n",
       "      <td>0</td>\n",
       "      <td>2</td>\n",
       "      <td>1</td>\n",
       "      <td>3</td>\n",
       "      <td>2</td>\n",
       "      <td>3</td>\n",
       "      <td>0</td>\n",
       "    </tr>\n",
       "    <tr>\n",
       "      <th>3</th>\n",
       "      <td>0</td>\n",
       "      <td>1</td>\n",
       "      <td>1</td>\n",
       "      <td>1</td>\n",
       "      <td>1</td>\n",
       "      <td>2</td>\n",
       "      <td>1</td>\n",
       "      <td>1</td>\n",
       "      <td>2</td>\n",
       "      <td>2</td>\n",
       "      <td>1</td>\n",
       "      <td>1</td>\n",
       "      <td>1</td>\n",
       "      <td>0</td>\n",
       "      <td>1</td>\n",
       "      <td>1</td>\n",
       "    </tr>\n",
       "    <tr>\n",
       "      <th>4</th>\n",
       "      <td>1</td>\n",
       "      <td>4</td>\n",
       "      <td>2</td>\n",
       "      <td>1</td>\n",
       "      <td>4</td>\n",
       "      <td>5</td>\n",
       "      <td>1</td>\n",
       "      <td>5</td>\n",
       "      <td>4</td>\n",
       "      <td>1</td>\n",
       "      <td>4</td>\n",
       "      <td>4</td>\n",
       "      <td>2</td>\n",
       "      <td>4</td>\n",
       "      <td>0</td>\n",
       "      <td>1</td>\n",
       "    </tr>\n",
       "  </tbody>\n",
       "</table>\n",
       "</div>"
      ],
      "text/plain": [
       "   FTHG  latest_0  latest_1  latest_2  latest_3  latest_4  home_0  home_1  \\\n",
       "0     1         2         3         0         0         1       3       0   \n",
       "1     0         2         2         3         1         0       2       1   \n",
       "2     2         2         1         3         3         5       2       3   \n",
       "3     0         1         1         1         1         2       1       1   \n",
       "4     1         4         2         1         4         5       1       5   \n",
       "\n",
       "   home_2  home_3  home_4  away_0  away_1  away_2  away_3  away_4  \n",
       "0       1       4       2       2       0       2       3       1  \n",
       "1       0       3       6       2       3       0       1       1  \n",
       "2       5       0       2       1       3       2       3       0  \n",
       "3       2       2       1       1       1       0       1       1  \n",
       "4       4       1       4       4       2       4       0       1  "
      ]
     },
     "execution_count": 22,
     "metadata": {},
     "output_type": "execute_result"
    }
   ],
   "source": [
    "home_team_df.head()"
   ]
  },
  {
   "cell_type": "code",
   "execution_count": 23,
   "id": "2efae60a-e271-4e1c-8f50-15559f283f0b",
   "metadata": {},
   "outputs": [
    {
     "data": {
      "text/html": [
       "<div>\n",
       "<style scoped>\n",
       "    .dataframe tbody tr th:only-of-type {\n",
       "        vertical-align: middle;\n",
       "    }\n",
       "\n",
       "    .dataframe tbody tr th {\n",
       "        vertical-align: top;\n",
       "    }\n",
       "\n",
       "    .dataframe thead th {\n",
       "        text-align: right;\n",
       "    }\n",
       "</style>\n",
       "<table border=\"1\" class=\"dataframe\">\n",
       "  <thead>\n",
       "    <tr style=\"text-align: right;\">\n",
       "      <th></th>\n",
       "      <th>AwayTeam</th>\n",
       "      <th>FTAG</th>\n",
       "      <th>away_latest</th>\n",
       "      <th>away_home</th>\n",
       "      <th>away_away</th>\n",
       "    </tr>\n",
       "  </thead>\n",
       "  <tbody>\n",
       "    <tr>\n",
       "      <th>0</th>\n",
       "      <td>Fulham</td>\n",
       "      <td>0</td>\n",
       "      <td>[4, 0, 0, 1, 1]</td>\n",
       "      <td>[0, 1, 1, 0, 3]</td>\n",
       "      <td>[4, 0, 2, 1, 3]</td>\n",
       "    </tr>\n",
       "    <tr>\n",
       "      <th>1</th>\n",
       "      <td>Liverpool</td>\n",
       "      <td>2</td>\n",
       "      <td>[2, 3, 4, 2, 0]</td>\n",
       "      <td>[2, 4, 0, 3, 2]</td>\n",
       "      <td>[3, 2, 0, 3, 2]</td>\n",
       "    </tr>\n",
       "    <tr>\n",
       "      <th>2</th>\n",
       "      <td>Wolves</td>\n",
       "      <td>0</td>\n",
       "      <td>[0, 1, 1, 2, 0]</td>\n",
       "      <td>[1, 2, 0, 0, 1]</td>\n",
       "      <td>[0, 1, 2, 1, 0]</td>\n",
       "    </tr>\n",
       "    <tr>\n",
       "      <th>3</th>\n",
       "      <td>Brighton</td>\n",
       "      <td>3</td>\n",
       "      <td>[0, 1, 1, 1, 0]</td>\n",
       "      <td>[0, 1, 1, 0, 0]</td>\n",
       "      <td>[1, 0, 1, 0, 1]</td>\n",
       "    </tr>\n",
       "    <tr>\n",
       "      <th>4</th>\n",
       "      <td>Southampton</td>\n",
       "      <td>0</td>\n",
       "      <td>[2, 0, 0, 1, 3]</td>\n",
       "      <td>[0, 3, 3, 2, 1]</td>\n",
       "      <td>[2, 0, 1, 0, 2]</td>\n",
       "    </tr>\n",
       "  </tbody>\n",
       "</table>\n",
       "</div>"
      ],
      "text/plain": [
       "      AwayTeam  FTAG      away_latest        away_home        away_away\n",
       "0       Fulham     0  [4, 0, 0, 1, 1]  [0, 1, 1, 0, 3]  [4, 0, 2, 1, 3]\n",
       "1    Liverpool     2  [2, 3, 4, 2, 0]  [2, 4, 0, 3, 2]  [3, 2, 0, 3, 2]\n",
       "2       Wolves     0  [0, 1, 1, 2, 0]  [1, 2, 0, 0, 1]  [0, 1, 2, 1, 0]\n",
       "3     Brighton     3  [0, 1, 1, 1, 0]  [0, 1, 1, 0, 0]  [1, 0, 1, 0, 1]\n",
       "4  Southampton     0  [2, 0, 0, 1, 3]  [0, 3, 3, 2, 1]  [2, 0, 1, 0, 2]"
      ]
     },
     "execution_count": 23,
     "metadata": {},
     "output_type": "execute_result"
    }
   ],
   "source": [
    "away_team_df.head()"
   ]
  },
  {
   "cell_type": "code",
   "execution_count": 24,
   "id": "5cb83914-60c6-4079-8f5d-f3ac9689d527",
   "metadata": {},
   "outputs": [],
   "source": [
    "away_team_df[['latest_0', 'latest_1', 'latest_2', 'latest_3', 'latest_4']] = away_team_df['away_latest'].apply(split_list)\n",
    "away_team_df[['home_0', 'home_1', 'home_2', 'home_3', 'home_4']] = away_team_df['away_latest'].apply(split_list)\n",
    "away_team_df[['away_0', 'away_1', 'away_2', 'away_3', 'away_4']] = away_team_df['away_latest'].apply(split_list)\n",
    "away_team_df = away_team_df.drop(['AwayTeam', 'away_latest', 'away_home', 'away_away'], axis=1)"
   ]
  },
  {
   "cell_type": "code",
   "execution_count": 25,
   "id": "d3b64e46-a692-4c96-9188-002499547299",
   "metadata": {},
   "outputs": [
    {
     "data": {
      "text/html": [
       "<div>\n",
       "<style scoped>\n",
       "    .dataframe tbody tr th:only-of-type {\n",
       "        vertical-align: middle;\n",
       "    }\n",
       "\n",
       "    .dataframe tbody tr th {\n",
       "        vertical-align: top;\n",
       "    }\n",
       "\n",
       "    .dataframe thead th {\n",
       "        text-align: right;\n",
       "    }\n",
       "</style>\n",
       "<table border=\"1\" class=\"dataframe\">\n",
       "  <thead>\n",
       "    <tr style=\"text-align: right;\">\n",
       "      <th></th>\n",
       "      <th>FTAG</th>\n",
       "      <th>latest_0</th>\n",
       "      <th>latest_1</th>\n",
       "      <th>latest_2</th>\n",
       "      <th>latest_3</th>\n",
       "      <th>latest_4</th>\n",
       "      <th>home_0</th>\n",
       "      <th>home_1</th>\n",
       "      <th>home_2</th>\n",
       "      <th>home_3</th>\n",
       "      <th>home_4</th>\n",
       "      <th>away_0</th>\n",
       "      <th>away_1</th>\n",
       "      <th>away_2</th>\n",
       "      <th>away_3</th>\n",
       "      <th>away_4</th>\n",
       "    </tr>\n",
       "  </thead>\n",
       "  <tbody>\n",
       "    <tr>\n",
       "      <th>0</th>\n",
       "      <td>0</td>\n",
       "      <td>4</td>\n",
       "      <td>0</td>\n",
       "      <td>0</td>\n",
       "      <td>1</td>\n",
       "      <td>1</td>\n",
       "      <td>4</td>\n",
       "      <td>0</td>\n",
       "      <td>0</td>\n",
       "      <td>1</td>\n",
       "      <td>1</td>\n",
       "      <td>4</td>\n",
       "      <td>0</td>\n",
       "      <td>0</td>\n",
       "      <td>1</td>\n",
       "      <td>1</td>\n",
       "    </tr>\n",
       "    <tr>\n",
       "      <th>1</th>\n",
       "      <td>2</td>\n",
       "      <td>2</td>\n",
       "      <td>3</td>\n",
       "      <td>4</td>\n",
       "      <td>2</td>\n",
       "      <td>0</td>\n",
       "      <td>2</td>\n",
       "      <td>3</td>\n",
       "      <td>4</td>\n",
       "      <td>2</td>\n",
       "      <td>0</td>\n",
       "      <td>2</td>\n",
       "      <td>3</td>\n",
       "      <td>4</td>\n",
       "      <td>2</td>\n",
       "      <td>0</td>\n",
       "    </tr>\n",
       "    <tr>\n",
       "      <th>2</th>\n",
       "      <td>0</td>\n",
       "      <td>0</td>\n",
       "      <td>1</td>\n",
       "      <td>1</td>\n",
       "      <td>2</td>\n",
       "      <td>0</td>\n",
       "      <td>0</td>\n",
       "      <td>1</td>\n",
       "      <td>1</td>\n",
       "      <td>2</td>\n",
       "      <td>0</td>\n",
       "      <td>0</td>\n",
       "      <td>1</td>\n",
       "      <td>1</td>\n",
       "      <td>2</td>\n",
       "      <td>0</td>\n",
       "    </tr>\n",
       "    <tr>\n",
       "      <th>3</th>\n",
       "      <td>3</td>\n",
       "      <td>0</td>\n",
       "      <td>1</td>\n",
       "      <td>1</td>\n",
       "      <td>1</td>\n",
       "      <td>0</td>\n",
       "      <td>0</td>\n",
       "      <td>1</td>\n",
       "      <td>1</td>\n",
       "      <td>1</td>\n",
       "      <td>0</td>\n",
       "      <td>0</td>\n",
       "      <td>1</td>\n",
       "      <td>1</td>\n",
       "      <td>1</td>\n",
       "      <td>0</td>\n",
       "    </tr>\n",
       "    <tr>\n",
       "      <th>4</th>\n",
       "      <td>0</td>\n",
       "      <td>2</td>\n",
       "      <td>0</td>\n",
       "      <td>0</td>\n",
       "      <td>1</td>\n",
       "      <td>3</td>\n",
       "      <td>2</td>\n",
       "      <td>0</td>\n",
       "      <td>0</td>\n",
       "      <td>1</td>\n",
       "      <td>3</td>\n",
       "      <td>2</td>\n",
       "      <td>0</td>\n",
       "      <td>0</td>\n",
       "      <td>1</td>\n",
       "      <td>3</td>\n",
       "    </tr>\n",
       "  </tbody>\n",
       "</table>\n",
       "</div>"
      ],
      "text/plain": [
       "   FTAG  latest_0  latest_1  latest_2  latest_3  latest_4  home_0  home_1  \\\n",
       "0     0         4         0         0         1         1       4       0   \n",
       "1     2         2         3         4         2         0       2       3   \n",
       "2     0         0         1         1         2         0       0       1   \n",
       "3     3         0         1         1         1         0       0       1   \n",
       "4     0         2         0         0         1         3       2       0   \n",
       "\n",
       "   home_2  home_3  home_4  away_0  away_1  away_2  away_3  away_4  \n",
       "0       0       1       1       4       0       0       1       1  \n",
       "1       4       2       0       2       3       4       2       0  \n",
       "2       1       2       0       0       1       1       2       0  \n",
       "3       1       1       0       0       1       1       1       0  \n",
       "4       0       1       3       2       0       0       1       3  "
      ]
     },
     "execution_count": 25,
     "metadata": {},
     "output_type": "execute_result"
    }
   ],
   "source": [
    "away_team_df.head()"
   ]
  },
  {
   "cell_type": "markdown",
   "id": "ade3c751-47b5-43d8-b67a-84b81404022b",
   "metadata": {},
   "source": [
    "## Model"
   ]
  },
  {
   "cell_type": "code",
   "execution_count": 27,
   "id": "83f18dbb-538f-4465-acd2-8f4b79f3ccd1",
   "metadata": {},
   "outputs": [],
   "source": [
    "def test_score(predictions, true_values):\n",
    "    rounded_results = list(np.around(np.array(predictions),0))\n",
    "    df = pd.DataFrame()\n",
    "    df['predicted_scores'] = rounded_results\n",
    "    df['true_values'] = true_values\n",
    "    df['diff'] = df['predicted_scores'] - df['true_values']\n",
    "    return len(df[df['diff'] != 0])/len(df)"
   ]
  },
  {
   "cell_type": "code",
   "execution_count": 28,
   "id": "c59756b7-d42f-4600-9933-a990dab7ec15",
   "metadata": {},
   "outputs": [],
   "source": [
    "def run_model(model_class, X_train, y_train, X_test, y_test):\n",
    "    model = model_class\n",
    "    model.fit(X_train, y_train)\n",
    "    results = model.predict(X_test)\n",
    "    acc = test_score(results, list(y_test))\n",
    "    return model, acc"
   ]
  },
  {
   "cell_type": "code",
   "execution_count": 29,
   "id": "09baff52-17a0-4283-955b-e5a875045add",
   "metadata": {},
   "outputs": [],
   "source": [
    "def process_model_data(home_team_df, away_team_df):\n",
    "    y_home = home_team_df['FTHG']\n",
    "    X_home = np.array(home_team_df.drop('FTHG',axis=1))\n",
    "    y_away = away_team_df['FTAG']\n",
    "    X_away = np.array(away_team_df.drop('FTAG',axis=1))\n",
    "\n",
    "    X_train_home, X_test_home, y_train_home, y_test_home = train_test_split(X_home, y_home, \n",
    "                                                                            test_size=0.2, \n",
    "                                                                            random_state=55)\n",
    "    print('Home Split:')\n",
    "    print(f'Train: {len(X_train_home)}')\n",
    "    print(f'Test: {len(X_test_home)}')\n",
    "    print('\\n')\n",
    "\n",
    "    X_train_away, X_test_away, y_train_away, y_test_away = train_test_split(X_away, y_away, \n",
    "                                                                            test_size=0.2,\n",
    "                                                                            random_state=55)\n",
    "\n",
    "    print('Away Split:')\n",
    "    print(f'Train:: {len(X_train_away)}')\n",
    "    print(f'Test: {len(X_test_away)}')\n",
    "    \n",
    "    return X_train_home, X_test_home, y_train_home, y_test_home, X_train_away, X_test_away, y_train_away, y_test_away"
   ]
  },
  {
   "cell_type": "code",
   "execution_count": 30,
   "id": "dfe6b84c-5b04-49be-aea8-8ea187953c39",
   "metadata": {},
   "outputs": [],
   "source": [
    "def run_model_prediction(model_class, home_team_df, away_team_df):\n",
    "\n",
    "    X_train_home, X_test_home, y_train_home, y_test_home, X_train_away, X_test_away, y_train_away, y_test_away = process_model_data(home_team_df, away_team_df)\n",
    "    \n",
    "\n",
    "    home_model, home_acc = run_model(model_class,\n",
    "                                     X_train_home,\n",
    "                                     y_train_home,\n",
    "                                     X_test_home,\n",
    "                                     y_test_home)\n",
    "    print('Home Model Accurracy : ' + str(home_acc))\n",
    "\n",
    "\n",
    "    away_model, away_acc = run_model(model_class,\n",
    "                                     X_train_away,\n",
    "                                     y_train_away,\n",
    "                                     X_test_away,\n",
    "                                     y_test_away)\n",
    "    print('Away Model Accurracy : ' + str(away_acc))\n",
    "    return home_model, away_model\n",
    "\n"
   ]
  },
  {
   "cell_type": "markdown",
   "id": "fc7b0a3f-0709-4860-9383-2991844c38a6",
   "metadata": {},
   "source": [
    "### Linear Regression"
   ]
  },
  {
   "cell_type": "code",
   "execution_count": 32,
   "id": "a3f09a94-1ce7-47ae-9785-0dc153e0f9be",
   "metadata": {},
   "outputs": [
    {
     "name": "stdout",
     "output_type": "stream",
     "text": [
      "Home Split:\n",
      "Train: 3965\n",
      "Test: 992\n",
      "\n",
      "\n",
      "Away Split:\n",
      "Train:: 3965\n",
      "Test: 992\n",
      "Home Model Accurracy : 0.6653225806451613\n",
      "Away Model Accurracy : 0.6310483870967742\n"
     ]
    }
   ],
   "source": [
    "model_class = LinearRegression()              \n",
    "home_model, away_model = run_model_prediction(model_class, home_team_df, away_team_df)"
   ]
  },
  {
   "cell_type": "code",
   "execution_count": 34,
   "id": "624faedd-c2d5-4231-9916-429c2d0c2066",
   "metadata": {},
   "outputs": [
    {
     "name": "stdin",
     "output_type": "stream",
     "text": [
      " no\n"
     ]
    }
   ],
   "source": [
    "linear_check = input()"
   ]
  },
  {
   "cell_type": "code",
   "execution_count": null,
   "id": "98d050f8-6d1e-4d92-896f-e93765fa43ec",
   "metadata": {},
   "outputs": [],
   "source": [
    "if linear_check.lower() == 'yes':\n",
    "   joblib.dump(home_model, '../score_models/league/linear/home_model.joblib')\n",
    "   joblib.dump(away_model, '../score_models/league/linear/away_model.joblib')"
   ]
  },
  {
   "cell_type": "markdown",
   "id": "482df056-a50c-4a13-9e4e-0e343e14270e",
   "metadata": {},
   "source": [
    "#### XGBOOST"
   ]
  },
  {
   "cell_type": "code",
   "execution_count": 36,
   "id": "146c0477-d9be-4b0f-bd74-3e70e9913ed9",
   "metadata": {},
   "outputs": [
    {
     "name": "stdout",
     "output_type": "stream",
     "text": [
      "Home Split:\n",
      "Train: 3965\n",
      "Test: 992\n",
      "\n",
      "\n",
      "Away Split:\n",
      "Train:: 3965\n",
      "Test: 992\n",
      "Home Model Accurracy : 0.71875\n",
      "Away Model Accurracy : 0.6491935483870968\n"
     ]
    }
   ],
   "source": [
    "model_class = xgboost.XGBRegressor()              \n",
    "home_model, away_model = run_model_prediction(model_class, home_team_df, away_team_df)"
   ]
  },
  {
   "cell_type": "code",
   "execution_count": 38,
   "id": "b8589886-c1a5-4427-97f1-057aa1ffe819",
   "metadata": {},
   "outputs": [
    {
     "name": "stdin",
     "output_type": "stream",
     "text": [
      " no\n"
     ]
    }
   ],
   "source": [
    "xgboost_check = input()"
   ]
  },
  {
   "cell_type": "code",
   "execution_count": null,
   "id": "eca3fcc8-ee12-4026-91f2-c5eea714d4e6",
   "metadata": {},
   "outputs": [],
   "source": [
    "if xgboost_check.lower() == 'yes':\n",
    "   joblib.dump(home_model, '../score_models/league/xgboost/home_model.joblib')\n",
    "   joblib.dump(away_model, '../score_models/league/xgboost/away_model.joblib')"
   ]
  },
  {
   "attachments": {},
   "cell_type": "markdown",
   "id": "e927a95a-0943-4417-9cb5-c0c64a7f7ee0",
   "metadata": {},
   "source": [
    "### Away Team"
   ]
  },
  {
   "cell_type": "markdown",
   "id": "aace243e-788e-48f9-a199-d4e5fabb59ed",
   "metadata": {},
   "source": [
    "### Tensor Flow"
   ]
  },
  {
   "cell_type": "code",
   "execution_count": 40,
   "id": "f96a7b50-f533-4ec4-8fd5-cf0baf62167e",
   "metadata": {},
   "outputs": [
    {
     "name": "stdout",
     "output_type": "stream",
     "text": [
      "Home Split:\n",
      "Train: 3965\n",
      "Test: 992\n",
      "\n",
      "\n",
      "Away Split:\n",
      "Train:: 3965\n",
      "Test: 992\n"
     ]
    }
   ],
   "source": [
    "X_train_home, X_test_home, y_train_home, y_test_home, X_train_away, X_test_away, y_train_away, y_test_away = process_model_data(home_team_df, away_team_df)"
   ]
  },
  {
   "cell_type": "code",
   "execution_count": 42,
   "id": "41d959d8-3aa1-4335-b363-3c44249e7c10",
   "metadata": {},
   "outputs": [],
   "source": [
    "def build_and_compile_model(norm, optimiser_value):\n",
    "  model = keras.Sequential([\n",
    "      norm,\n",
    "      layers.Dense(64, activation='relu'),\n",
    "      layers.Dense(64, activation='relu'),\n",
    "      layers.Dense(1)\n",
    "  ])\n",
    "\n",
    "  model.compile(loss='mean_absolute_error',\n",
    "                optimizer=tf.keras.optimizers.Adam(optimiser_value))\n",
    "  return model"
   ]
  },
  {
   "cell_type": "code",
   "execution_count": 44,
   "id": "7ad5c325-da32-4d85-bcb3-ff1e3fa33213",
   "metadata": {},
   "outputs": [],
   "source": [
    "def test_score_tensor(predictions, true_values):\n",
    "    rounded_results = list(np.around(np.array(predictions),0))\n",
    "    rounded_results = [0.0 if n <= 0 else n for n in rounded_results]  \n",
    "    df = pd.DataFrame()\n",
    "    df['predicted_scores'] = rounded_results\n",
    "    df['true_values'] = list(true_values)\n",
    "    df['diff'] = df['predicted_scores'] - df['true_values']\n",
    "    return len(df[df['diff'] != 0])/len(df)"
   ]
  },
  {
   "cell_type": "code",
   "execution_count": 46,
   "id": "ecbba149-67c9-477c-ae1f-4d7ada90d8c4",
   "metadata": {},
   "outputs": [],
   "source": [
    "def run_tensor_regressor(X_train, y_train, X_test, y_test, epoch=100, verbose=0, validation_split=0.2, optimiser_value=0.001):\n",
    "\n",
    "    X_train = pd.DataFrame(X_train)\n",
    "    X_test = pd.DataFrame(X_test)\n",
    "    y_train = pd.DataFrame(y_train)\n",
    "\n",
    "    normalizer = tf.keras.layers.Normalization(axis=-1)\n",
    "    normalizer.adapt(np.array(X_train))\n",
    "    normalizer.mean.numpy()\n",
    "\n",
    "    dnn_model = build_and_compile_model(normalizer, optimiser_value)\n",
    "\n",
    "    history = dnn_model.fit(\n",
    "        X_train,\n",
    "        y_train,\n",
    "        validation_split=0.2,\n",
    "        verbose=0, epochs=epoch)\n",
    "\n",
    "\n",
    "    test_predictions = dnn_model.predict(X_test).flatten()\n",
    "    acc = test_score_tensor(test_predictions, y_test)\n",
    "    print(f'Accuracy : {acc}' )\n",
    "    return dnn_model\n",
    "\n",
    "    "
   ]
  },
  {
   "cell_type": "code",
   "execution_count": 48,
   "id": "acc6aeab-65cb-45e4-b542-456e09f79127",
   "metadata": {},
   "outputs": [
    {
     "name": "stdout",
     "output_type": "stream",
     "text": [
      "\u001b[1m31/31\u001b[0m \u001b[32m━━━━━━━━━━━━━━━━━━━━\u001b[0m\u001b[37m\u001b[0m \u001b[1m0s\u001b[0m 2ms/step \n",
      "Accuracy : 0.7358870967741935\n"
     ]
    }
   ],
   "source": [
    "home_model = run_tensor_regressor(X_train_home, y_train_home, X_test_home, y_test_home, epoch=200, optimiser_value=0.0045)"
   ]
  },
  {
   "cell_type": "code",
   "execution_count": 62,
   "id": "9241ee27-7f7d-4585-b967-312206861b49",
   "metadata": {},
   "outputs": [
    {
     "name": "stdout",
     "output_type": "stream",
     "text": [
      "\u001b[1m31/31\u001b[0m \u001b[32m━━━━━━━━━━━━━━━━━━━━\u001b[0m\u001b[37m\u001b[0m \u001b[1m0s\u001b[0m 1ms/step \n",
      "Accuracy : 0.6673387096774194\n"
     ]
    }
   ],
   "source": [
    "away_model = run_tensor_regressor(X_train_away, y_train_away, X_test_away, y_test_away, epoch=200, optimiser_value=0.001)"
   ]
  },
  {
   "cell_type": "code",
   "execution_count": 64,
   "id": "62433d52-e12a-49fd-91c8-4a6e7a8a8cd9",
   "metadata": {},
   "outputs": [
    {
     "name": "stdin",
     "output_type": "stream",
     "text": [
      " yes\n"
     ]
    }
   ],
   "source": [
    "tensor_check = input()"
   ]
  },
  {
   "cell_type": "code",
   "execution_count": 68,
   "id": "907f7b51-64d3-4f50-a70a-f138f8292e7c",
   "metadata": {},
   "outputs": [],
   "source": [
    "if tensor_check.lower() == 'yes':\n",
    "   joblib.dump(home_model, '../score_models/league/tensorflow/home_model.joblib')\n",
    "   joblib.dump(away_model, '../score_models/league/tensorflow/away_model.joblib')"
   ]
  },
  {
   "cell_type": "code",
   "execution_count": null,
   "id": "62e15531-2aec-4e7a-b7b2-58097a303201",
   "metadata": {},
   "outputs": [],
   "source": []
  }
 ],
 "metadata": {
  "kernelspec": {
   "display_name": "Python 3 (ipykernel)",
   "language": "python",
   "name": "python3"
  },
  "language_info": {
   "codemirror_mode": {
    "name": "ipython",
    "version": 3
   },
   "file_extension": ".py",
   "mimetype": "text/x-python",
   "name": "python",
   "nbconvert_exporter": "python",
   "pygments_lexer": "ipython3",
   "version": "3.11.7"
  }
 },
 "nbformat": 4,
 "nbformat_minor": 5
}
